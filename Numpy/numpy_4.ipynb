{
 "cells": [
  {
   "cell_type": "code",
   "execution_count": 1,
   "id": "fd301e7a",
   "metadata": {},
   "outputs": [],
   "source": [
    "import numpy as np"
   ]
  },
  {
   "cell_type": "code",
   "execution_count": 2,
   "id": "5c995795",
   "metadata": {},
   "outputs": [],
   "source": [
    "stock_change=np.random.uniform(0,1,(8,10))"
   ]
  },
  {
   "cell_type": "code",
   "execution_count": 3,
   "id": "1b62db5d",
   "metadata": {},
   "outputs": [
    {
     "data": {
      "text/plain": [
       "array([[0.32156861, 0.20677233, 0.55080004, 0.56201335, 0.49771957,\n",
       "        0.67047782, 0.44032463, 0.54288587, 0.54501066, 0.25995702],\n",
       "       [0.7297074 , 0.91545762, 0.94732596, 0.366916  , 0.73018308,\n",
       "        0.42696661, 0.6827615 , 0.91365329, 0.18803421, 0.33700603],\n",
       "       [0.52813936, 0.48294942, 0.478084  , 0.76579502, 0.16547416,\n",
       "        0.2797605 , 0.99255868, 0.41317161, 0.98039524, 0.14347866],\n",
       "       [0.42944929, 0.03329215, 0.48341117, 0.91161426, 0.1202865 ,\n",
       "        0.85152614, 0.82762998, 0.80397357, 0.26114866, 0.95022965],\n",
       "       [0.83471635, 0.91111898, 0.12605874, 0.6644873 , 0.58771259,\n",
       "        0.76375216, 0.29072959, 0.14848492, 0.33282237, 0.42795253],\n",
       "       [0.15788368, 0.80504216, 0.00261759, 0.31578633, 0.46158407,\n",
       "        0.43374252, 0.14093888, 0.1933002 , 0.57566149, 0.5700672 ],\n",
       "       [0.32575637, 0.63216714, 0.45466494, 0.21513936, 0.08170111,\n",
       "        0.41588334, 0.62609834, 0.9923569 , 0.98135785, 0.83740294],\n",
       "       [0.91958764, 0.94109483, 0.36223419, 0.64455614, 0.6264163 ,\n",
       "        0.79263777, 0.0641634 , 0.54359275, 0.92072846, 0.1523011 ]])"
      ]
     },
     "execution_count": 3,
     "metadata": {},
     "output_type": "execute_result"
    }
   ],
   "source": [
    "stock_change"
   ]
  },
  {
   "cell_type": "code",
   "execution_count": 4,
   "id": "e1a61943",
   "metadata": {},
   "outputs": [],
   "source": [
    "stoch_c=stock_change[0:5,0:5]"
   ]
  },
  {
   "cell_type": "code",
   "execution_count": 5,
   "id": "ae3d7b0a",
   "metadata": {},
   "outputs": [
    {
     "data": {
      "text/plain": [
       "array([[0.32156861, 0.20677233, 0.55080004, 0.56201335, 0.49771957],\n",
       "       [0.7297074 , 0.91545762, 0.94732596, 0.366916  , 0.73018308],\n",
       "       [0.52813936, 0.48294942, 0.478084  , 0.76579502, 0.16547416],\n",
       "       [0.42944929, 0.03329215, 0.48341117, 0.91161426, 0.1202865 ],\n",
       "       [0.83471635, 0.91111898, 0.12605874, 0.6644873 , 0.58771259]])"
      ]
     },
     "execution_count": 5,
     "metadata": {},
     "output_type": "execute_result"
    }
   ],
   "source": [
    "stoch_c"
   ]
  },
  {
   "cell_type": "code",
   "execution_count": 6,
   "id": "c201d379",
   "metadata": {},
   "outputs": [
    {
     "data": {
      "text/plain": [
       "array([[False, False, False, False, False],\n",
       "       [False, False, False, False, False],\n",
       "       [False, False, False, False, False],\n",
       "       [False, False, False, False, False],\n",
       "       [False, False, False, False, False]])"
      ]
     },
     "execution_count": 6,
     "metadata": {},
     "output_type": "execute_result"
    }
   ],
   "source": [
    "stoch_c>1"
   ]
  },
  {
   "cell_type": "code",
   "execution_count": 7,
   "id": "939c1ee1",
   "metadata": {},
   "outputs": [],
   "source": [
    "stock_d=stock_change[0:2,0:5]"
   ]
  },
  {
   "cell_type": "code",
   "execution_count": 8,
   "id": "2234582b",
   "metadata": {},
   "outputs": [
    {
     "data": {
      "text/plain": [
       "array([[0.32156861, 0.20677233, 0.55080004, 0.56201335, 0.49771957],\n",
       "       [0.7297074 , 0.91545762, 0.94732596, 0.366916  , 0.73018308]])"
      ]
     },
     "execution_count": 8,
     "metadata": {},
     "output_type": "execute_result"
    }
   ],
   "source": [
    "stock_d"
   ]
  },
  {
   "cell_type": "code",
   "execution_count": 10,
   "id": "2668f0ab",
   "metadata": {},
   "outputs": [
    {
     "data": {
      "text/plain": [
       "array([[0, 0, 1, 1, 0],\n",
       "       [1, 1, 1, 0, 1]])"
      ]
     },
     "execution_count": 10,
     "metadata": {},
     "output_type": "execute_result"
    }
   ],
   "source": [
    "np.where(stock_d>0.5,1,0)    #三目运算符"
   ]
  },
  {
   "cell_type": "code",
   "execution_count": 11,
   "id": "294aeb72",
   "metadata": {},
   "outputs": [
    {
     "data": {
      "text/plain": [
       "array([[0.32156861, 0.20677233, 0.55080004, 0.56201335, 0.49771957],\n",
       "       [0.7297074 , 0.91545762, 0.94732596, 0.366916  , 0.73018308]])"
      ]
     },
     "execution_count": 11,
     "metadata": {},
     "output_type": "execute_result"
    }
   ],
   "source": [
    "stock_d"
   ]
  },
  {
   "cell_type": "code",
   "execution_count": 12,
   "id": "ba43046b",
   "metadata": {},
   "outputs": [
    {
     "data": {
      "text/plain": [
       "array([[0, 0, 1, 1, 0],\n",
       "       [1, 0, 0, 0, 1]])"
      ]
     },
     "execution_count": 12,
     "metadata": {},
     "output_type": "execute_result"
    }
   ],
   "source": [
    "np.where(np.logical_and(stock_d>0.5,stock_d<0.8),1,0)"
   ]
  },
  {
   "cell_type": "code",
   "execution_count": 13,
   "id": "77d1064a",
   "metadata": {},
   "outputs": [
    {
     "data": {
      "text/plain": [
       "array([[0.32156861, 0.20677233, 0.55080004, 0.56201335, 0.49771957],\n",
       "       [0.7297074 , 0.91545762, 0.94732596, 0.366916  , 0.73018308]])"
      ]
     },
     "execution_count": 13,
     "metadata": {},
     "output_type": "execute_result"
    }
   ],
   "source": [
    "stock_d"
   ]
  },
  {
   "cell_type": "code",
   "execution_count": 14,
   "id": "4955c0fa",
   "metadata": {},
   "outputs": [
    {
     "data": {
      "text/plain": [
       "0.9925586845402956"
      ]
     },
     "execution_count": 14,
     "metadata": {},
     "output_type": "execute_result"
    }
   ],
   "source": [
    "stock_change.max()"
   ]
  },
  {
   "cell_type": "code",
   "execution_count": 15,
   "id": "144232eb",
   "metadata": {},
   "outputs": [
    {
     "data": {
      "text/plain": [
       "array([[0.32156861, 0.20677233, 0.55080004, 0.56201335, 0.49771957,\n",
       "        0.67047782, 0.44032463, 0.54288587, 0.54501066, 0.25995702],\n",
       "       [0.7297074 , 0.91545762, 0.94732596, 0.366916  , 0.73018308,\n",
       "        0.42696661, 0.6827615 , 0.91365329, 0.18803421, 0.33700603],\n",
       "       [0.52813936, 0.48294942, 0.478084  , 0.76579502, 0.16547416,\n",
       "        0.2797605 , 0.99255868, 0.41317161, 0.98039524, 0.14347866],\n",
       "       [0.42944929, 0.03329215, 0.48341117, 0.91161426, 0.1202865 ,\n",
       "        0.85152614, 0.82762998, 0.80397357, 0.26114866, 0.95022965],\n",
       "       [0.83471635, 0.91111898, 0.12605874, 0.6644873 , 0.58771259,\n",
       "        0.76375216, 0.29072959, 0.14848492, 0.33282237, 0.42795253],\n",
       "       [0.15788368, 0.80504216, 0.00261759, 0.31578633, 0.46158407,\n",
       "        0.43374252, 0.14093888, 0.1933002 , 0.57566149, 0.5700672 ],\n",
       "       [0.32575637, 0.63216714, 0.45466494, 0.21513936, 0.08170111,\n",
       "        0.41588334, 0.62609834, 0.9923569 , 0.98135785, 0.83740294],\n",
       "       [0.91958764, 0.94109483, 0.36223419, 0.64455614, 0.6264163 ,\n",
       "        0.79263777, 0.0641634 , 0.54359275, 0.92072846, 0.1523011 ]])"
      ]
     },
     "execution_count": 15,
     "metadata": {},
     "output_type": "execute_result"
    }
   ],
   "source": [
    "stock_change"
   ]
  },
  {
   "cell_type": "code",
   "execution_count": 16,
   "id": "9f798fc1",
   "metadata": {},
   "outputs": [
    {
     "data": {
      "text/plain": [
       "7"
      ]
     },
     "execution_count": 16,
     "metadata": {},
     "output_type": "execute_result"
    }
   ],
   "source": [
    "stock_d.argmax()"
   ]
  },
  {
   "cell_type": "code",
   "execution_count": 17,
   "id": "fd75c507",
   "metadata": {},
   "outputs": [
    {
     "data": {
      "text/plain": [
       "array([[0.32156861, 0.20677233, 0.55080004, 0.56201335, 0.49771957],\n",
       "       [0.7297074 , 0.91545762, 0.94732596, 0.366916  , 0.73018308]])"
      ]
     },
     "execution_count": 17,
     "metadata": {},
     "output_type": "execute_result"
    }
   ],
   "source": [
    "stock_d"
   ]
  },
  {
   "cell_type": "code",
   "execution_count": 18,
   "id": "663508eb",
   "metadata": {},
   "outputs": [
    {
     "data": {
      "text/plain": [
       "array([3, 2], dtype=int64)"
      ]
     },
     "execution_count": 18,
     "metadata": {},
     "output_type": "execute_result"
    }
   ],
   "source": [
    "stock_d.argmax(axis=1)  # 手动试一下axis=1、axis=0是按行还是按列"
   ]
  },
  {
   "cell_type": "code",
   "execution_count": 20,
   "id": "138e98f8",
   "metadata": {},
   "outputs": [
    {
     "data": {
      "text/plain": [
       "array([0.7297074 , 0.91545762, 0.94732596, 0.56201335, 0.73018308])"
      ]
     },
     "execution_count": 20,
     "metadata": {},
     "output_type": "execute_result"
    }
   ],
   "source": [
    "stock_d.max(axis=0)"
   ]
  },
  {
   "cell_type": "code",
   "execution_count": 21,
   "id": "0e0457d8",
   "metadata": {},
   "outputs": [
    {
     "data": {
      "text/plain": [
       "array([3, 2], dtype=int64)"
      ]
     },
     "execution_count": 21,
     "metadata": {},
     "output_type": "execute_result"
    }
   ],
   "source": [
    "stock_d.argmax(axis=1)   # 第一行第二行的最大值下标"
   ]
  },
  {
   "cell_type": "code",
   "execution_count": 22,
   "id": "0d0629ec",
   "metadata": {},
   "outputs": [
    {
     "data": {
      "text/plain": [
       "array([1, 1, 1, 0, 1], dtype=int64)"
      ]
     },
     "execution_count": 22,
     "metadata": {},
     "output_type": "execute_result"
    }
   ],
   "source": [
    "stock_d.argmax(axis=0)"
   ]
  },
  {
   "cell_type": "markdown",
   "id": "a7076e2e",
   "metadata": {},
   "source": [
    "# 数组运算"
   ]
  },
  {
   "cell_type": "code",
   "execution_count": 23,
   "id": "99d6e98c",
   "metadata": {},
   "outputs": [
    {
     "data": {
      "text/plain": [
       "array([1, 2, 3, 4])"
      ]
     },
     "execution_count": 23,
     "metadata": {},
     "output_type": "execute_result"
    }
   ],
   "source": [
    "arr =np.array([1,2,3,4])\n",
    "arr"
   ]
  },
  {
   "cell_type": "code",
   "execution_count": 24,
   "id": "9c983483",
   "metadata": {},
   "outputs": [
    {
     "data": {
      "text/plain": [
       "array([2, 3, 4, 5])"
      ]
     },
     "execution_count": 24,
     "metadata": {},
     "output_type": "execute_result"
    }
   ],
   "source": [
    "arr+1"
   ]
  },
  {
   "cell_type": "code",
   "execution_count": 25,
   "id": "8a204858",
   "metadata": {},
   "outputs": [
    {
     "data": {
      "text/plain": [
       "array([0.5, 1. , 1.5, 2. ])"
      ]
     },
     "execution_count": 25,
     "metadata": {},
     "output_type": "execute_result"
    }
   ],
   "source": [
    "arr/2"
   ]
  },
  {
   "cell_type": "code",
   "execution_count": 26,
   "id": "d9d6d352",
   "metadata": {},
   "outputs": [
    {
     "data": {
      "text/plain": [
       "array([ 5, 10, 15, 20])"
      ]
     },
     "execution_count": 26,
     "metadata": {},
     "output_type": "execute_result"
    }
   ],
   "source": [
    "arr*5"
   ]
  },
  {
   "cell_type": "code",
   "execution_count": 31,
   "id": "21ecffa2",
   "metadata": {},
   "outputs": [],
   "source": [
    "ar1=np.array([[1],[3]])\n",
    "ar2=np.array([[1,2,3,2,1,4],[5,6,1,2,3,2]])"
   ]
  },
  {
   "cell_type": "code",
   "execution_count": 32,
   "id": "2ca064b2",
   "metadata": {},
   "outputs": [
    {
     "data": {
      "text/plain": [
       "array([[2, 3, 4, 3, 2, 5],\n",
       "       [8, 9, 4, 5, 6, 5]])"
      ]
     },
     "execution_count": 32,
     "metadata": {},
     "output_type": "execute_result"
    }
   ],
   "source": [
    "ar1+ar2      #数组和数组计算需要满足广播机制：维度相同，shape对应位置为1"
   ]
  },
  {
   "cell_type": "code",
   "execution_count": 33,
   "id": "93ed274c",
   "metadata": {},
   "outputs": [],
   "source": [
    "a=np.array([[80,86],\n",
    "            [82,80],\n",
    "            [85,78],\n",
    "            [98,80],\n",
    "            [78,90],\n",
    "            [90,88]])\n"
   ]
  },
  {
   "cell_type": "code",
   "execution_count": 34,
   "id": "f71cf1c7",
   "metadata": {},
   "outputs": [],
   "source": [
    "b=np.array([[0.7],[0.3]])"
   ]
  },
  {
   "cell_type": "code",
   "execution_count": 35,
   "id": "ff8fbf9f",
   "metadata": {},
   "outputs": [
    {
     "data": {
      "text/plain": [
       "array([[81.8],\n",
       "       [81.4],\n",
       "       [82.9],\n",
       "       [92.6],\n",
       "       [81.6],\n",
       "       [89.4]])"
      ]
     },
     "execution_count": 35,
     "metadata": {},
     "output_type": "execute_result"
    }
   ],
   "source": [
    "np.matmul(a,b)"
   ]
  },
  {
   "cell_type": "code",
   "execution_count": 36,
   "id": "abe84a18",
   "metadata": {},
   "outputs": [
    {
     "data": {
      "text/plain": [
       "array([[81.8],\n",
       "       [81.4],\n",
       "       [82.9],\n",
       "       [92.6],\n",
       "       [81.6],\n",
       "       [89.4]])"
      ]
     },
     "execution_count": 36,
     "metadata": {},
     "output_type": "execute_result"
    }
   ],
   "source": [
    "np.dot(a,b)"
   ]
  },
  {
   "cell_type": "code",
   "execution_count": 37,
   "id": "a07c50e9",
   "metadata": {},
   "outputs": [
    {
     "data": {
      "text/plain": [
       "array([[800, 860],\n",
       "       [820, 800],\n",
       "       [850, 780],\n",
       "       [980, 800],\n",
       "       [780, 900],\n",
       "       [900, 880]])"
      ]
     },
     "execution_count": 37,
     "metadata": {},
     "output_type": "execute_result"
    }
   ],
   "source": [
    "np.dot(a,10)"
   ]
  },
  {
   "cell_type": "code",
   "execution_count": 39,
   "id": "df484bb5",
   "metadata": {},
   "outputs": [],
   "source": [
    "# np.matmul(a,10)   #matmul不支持矩阵乘以个数字 "
   ]
  },
  {
   "cell_type": "code",
   "execution_count": null,
   "id": "6e40b132",
   "metadata": {},
   "outputs": [],
   "source": []
  }
 ],
 "metadata": {
  "kernelspec": {
   "display_name": "Python 3 (ipykernel)",
   "language": "python",
   "name": "python3"
  },
  "language_info": {
   "codemirror_mode": {
    "name": "ipython",
    "version": 3
   },
   "file_extension": ".py",
   "mimetype": "text/x-python",
   "name": "python",
   "nbconvert_exporter": "python",
   "pygments_lexer": "ipython3",
   "version": "3.10.9"
  }
 },
 "nbformat": 4,
 "nbformat_minor": 5
}
