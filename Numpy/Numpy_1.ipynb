{
 "cells": [
  {
   "cell_type": "code",
   "execution_count": 1,
   "id": "554c4552",
   "metadata": {},
   "outputs": [],
   "source": [
    "import numpy as np"
   ]
  },
  {
   "cell_type": "markdown",
   "id": "aac5b616",
   "metadata": {},
   "source": [
    "# 1创建"
   ]
  },
  {
   "cell_type": "code",
   "execution_count": 2,
   "id": "4bce1339",
   "metadata": {},
   "outputs": [],
   "source": [
    "score=np.array([[1,2,3,4,5],\n",
    "        [1,2,3,4,5],\n",
    "        [1,2,3,4,5],\n",
    "        [1,2,3,4,5],\n",
    "        [1,2,3,4,5]])"
   ]
  },
  {
   "cell_type": "code",
   "execution_count": 3,
   "id": "9e7ca438",
   "metadata": {},
   "outputs": [
    {
     "data": {
      "text/plain": [
       "array([[1, 2, 3, 4, 5],\n",
       "       [1, 2, 3, 4, 5],\n",
       "       [1, 2, 3, 4, 5],\n",
       "       [1, 2, 3, 4, 5],\n",
       "       [1, 2, 3, 4, 5]])"
      ]
     },
     "execution_count": 3,
     "metadata": {},
     "output_type": "execute_result"
    }
   ],
   "source": [
    "score\n"
   ]
  },
  {
   "cell_type": "markdown",
   "id": "a047f938",
   "metadata": {},
   "source": [
    "# 2、效率对比"
   ]
  },
  {
   "cell_type": "code",
   "execution_count": 6,
   "id": "88a73d0b",
   "metadata": {},
   "outputs": [
    {
     "name": "stdout",
     "output_type": "stream",
     "text": [
      "CPU times: total: 2.59 s\n",
      "Wall time: 3.02 s\n",
      "CPU times: total: 203 ms\n",
      "Wall time: 241 ms\n"
     ]
    }
   ],
   "source": [
    "import random\n",
    "import time\n",
    "import numpy as np\n",
    "\n",
    "a=[]\n",
    "for i in range(100000000):\n",
    "    a.append(random.random())\n",
    "\n",
    "#通过%time魔法方法，查看当前代码运行一次的时间\n",
    "%time sum1=sum(a)\n",
    "\n",
    "b=np.array(a)\n",
    "\n",
    "%time sum2=np.sum(b)"
   ]
  },
  {
   "cell_type": "markdown",
   "id": "ad065275",
   "metadata": {},
   "source": [
    "# 3、ndarray的属性"
   ]
  },
  {
   "cell_type": "code",
   "execution_count": 7,
   "id": "4326dbb8",
   "metadata": {},
   "outputs": [
    {
     "data": {
      "text/plain": [
       "(5, 5)"
      ]
     },
     "execution_count": 7,
     "metadata": {},
     "output_type": "execute_result"
    }
   ],
   "source": [
    "#ndarray.shape        数组维度的元素\n",
    "#ndarray.ndim         数组维数\n",
    "#ndarray.size         数组中的元素数量\n",
    "#ndarray.itemsize     一个数组元素的长度（字节）\n",
    "#ndarray.dtype        数组元素的类型\n",
    "score.shape"
   ]
  },
  {
   "cell_type": "code",
   "execution_count": 8,
   "id": "a34a431d",
   "metadata": {},
   "outputs": [
    {
     "data": {
      "text/plain": [
       "2"
      ]
     },
     "execution_count": 8,
     "metadata": {},
     "output_type": "execute_result"
    }
   ],
   "source": [
    "score.ndim"
   ]
  },
  {
   "cell_type": "code",
   "execution_count": 9,
   "id": "a8af5b5d",
   "metadata": {},
   "outputs": [
    {
     "data": {
      "text/plain": [
       "25"
      ]
     },
     "execution_count": 9,
     "metadata": {},
     "output_type": "execute_result"
    }
   ],
   "source": [
    "score.size"
   ]
  },
  {
   "cell_type": "code",
   "execution_count": 10,
   "id": "7c6e38dc",
   "metadata": {},
   "outputs": [
    {
     "data": {
      "text/plain": [
       "4"
      ]
     },
     "execution_count": 10,
     "metadata": {},
     "output_type": "execute_result"
    }
   ],
   "source": [
    "score.itemsize\n"
   ]
  },
  {
   "cell_type": "code",
   "execution_count": 11,
   "id": "d1587582",
   "metadata": {},
   "outputs": [
    {
     "data": {
      "text/plain": [
       "dtype('int32')"
      ]
     },
     "execution_count": 11,
     "metadata": {},
     "output_type": "execute_result"
    }
   ],
   "source": [
    "score.dtype"
   ]
  },
  {
   "cell_type": "markdown",
   "id": "d65e1c4c",
   "metadata": {},
   "source": [
    "# 4、ndarray的形状"
   ]
  },
  {
   "cell_type": "code",
   "execution_count": 14,
   "id": "056db033",
   "metadata": {},
   "outputs": [],
   "source": [
    "a = np.array([1,2,3])"
   ]
  },
  {
   "cell_type": "code",
   "execution_count": 15,
   "id": "5f78cc83",
   "metadata": {},
   "outputs": [
    {
     "data": {
      "text/plain": [
       "array([1, 2, 3])"
      ]
     },
     "execution_count": 15,
     "metadata": {},
     "output_type": "execute_result"
    }
   ],
   "source": [
    "a"
   ]
  },
  {
   "cell_type": "code",
   "execution_count": 16,
   "id": "147b476b",
   "metadata": {},
   "outputs": [],
   "source": [
    "b = np.array([[1,2,3],[1,2,4]])"
   ]
  },
  {
   "cell_type": "code",
   "execution_count": 17,
   "id": "842c5521",
   "metadata": {},
   "outputs": [
    {
     "data": {
      "text/plain": [
       "array([[1, 2, 3],\n",
       "       [1, 2, 4]])"
      ]
     },
     "execution_count": 17,
     "metadata": {},
     "output_type": "execute_result"
    }
   ],
   "source": [
    "b\n"
   ]
  },
  {
   "cell_type": "code",
   "execution_count": 20,
   "id": "579be2ad",
   "metadata": {},
   "outputs": [],
   "source": [
    "c= np.array([[[1,2,3],[1,2,3]],[[1,2,3],[2,3,4]]])"
   ]
  },
  {
   "cell_type": "code",
   "execution_count": 21,
   "id": "1d8ced8d",
   "metadata": {},
   "outputs": [
    {
     "data": {
      "text/plain": [
       "array([[[1, 2, 3],\n",
       "        [1, 2, 3]],\n",
       "\n",
       "       [[1, 2, 3],\n",
       "        [2, 3, 4]]])"
      ]
     },
     "execution_count": 21,
     "metadata": {},
     "output_type": "execute_result"
    }
   ],
   "source": [
    "c\n"
   ]
  },
  {
   "cell_type": "code",
   "execution_count": 23,
   "id": "e2e38e71",
   "metadata": {},
   "outputs": [
    {
     "name": "stdout",
     "output_type": "stream",
     "text": [
      "(3,)\n",
      "(2, 3)\n",
      "(2, 2, 3)\n"
     ]
    }
   ],
   "source": [
    "print(a.shape)\n",
    "print(b.shape)\n",
    "print(c.shape)  #两大块，每一块两行三列"
   ]
  },
  {
   "cell_type": "code",
   "execution_count": 24,
   "id": "5fa400a6",
   "metadata": {},
   "outputs": [
    {
     "data": {
      "text/plain": [
       "3"
      ]
     },
     "execution_count": 24,
     "metadata": {},
     "output_type": "execute_result"
    }
   ],
   "source": [
    "c.ndim"
   ]
  },
  {
   "cell_type": "markdown",
   "id": "ef6c8e23",
   "metadata": {},
   "source": [
    "# 5、ndarray的类型"
   ]
  },
  {
   "cell_type": "code",
   "execution_count": 25,
   "id": "d0e340d0",
   "metadata": {},
   "outputs": [
    {
     "data": {
      "text/plain": [
       "dtype('int32')"
      ]
     },
     "execution_count": 25,
     "metadata": {},
     "output_type": "execute_result"
    }
   ],
   "source": [
    "a.dtype"
   ]
  },
  {
   "cell_type": "code",
   "execution_count": 26,
   "id": "cee852f1",
   "metadata": {},
   "outputs": [],
   "source": [
    "d= np.array([1,2,3],dtype=np.float32)"
   ]
  },
  {
   "cell_type": "code",
   "execution_count": 27,
   "id": "f2bdb2ed",
   "metadata": {},
   "outputs": [
    {
     "data": {
      "text/plain": [
       "array([1., 2., 3.], dtype=float32)"
      ]
     },
     "execution_count": 27,
     "metadata": {},
     "output_type": "execute_result"
    }
   ],
   "source": [
    "d\n"
   ]
  },
  {
   "cell_type": "code",
   "execution_count": 28,
   "id": "80a96421",
   "metadata": {},
   "outputs": [
    {
     "data": {
      "text/plain": [
       "dtype('float32')"
      ]
     },
     "execution_count": 28,
     "metadata": {},
     "output_type": "execute_result"
    }
   ],
   "source": [
    "d.dtype"
   ]
  },
  {
   "cell_type": "code",
   "execution_count": 29,
   "id": "58365137",
   "metadata": {},
   "outputs": [],
   "source": [
    "e= np.array([\"ai\",\"python\",\"love\"],dtype= np.string_)\n"
   ]
  },
  {
   "cell_type": "code",
   "execution_count": 30,
   "id": "5258a11e",
   "metadata": {},
   "outputs": [
    {
     "data": {
      "text/plain": [
       "array([b'ai', b'python', b'love'], dtype='|S6')"
      ]
     },
     "execution_count": 30,
     "metadata": {},
     "output_type": "execute_result"
    }
   ],
   "source": [
    "e\n"
   ]
  },
  {
   "cell_type": "code",
   "execution_count": null,
   "id": "e69d5426",
   "metadata": {},
   "outputs": [],
   "source": []
  }
 ],
 "metadata": {
  "kernelspec": {
   "display_name": "Python 3 (ipykernel)",
   "language": "python",
   "name": "python3"
  },
  "language_info": {
   "codemirror_mode": {
    "name": "ipython",
    "version": 3
   },
   "file_extension": ".py",
   "mimetype": "text/x-python",
   "name": "python",
   "nbconvert_exporter": "python",
   "pygments_lexer": "ipython3",
   "version": "3.10.9"
  }
 },
 "nbformat": 4,
 "nbformat_minor": 5
}
